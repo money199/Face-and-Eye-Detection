{
 "cells": [
  {
   "cell_type": "code",
   "execution_count": 5,
   "id": "b5f2d643",
   "metadata": {},
   "outputs": [],
   "source": [
    "#detect eye and face\n",
    "#NOTE: Haar cascade is a pre trained classifier.\n",
    "import numpy as np\n",
    "import cv2\n",
    "\n",
    "cap=cv2.VideoCapture(0)\n",
    "\n",
    "#(path to the classifier)\n",
    "face_cascade=cv2.CascadeClassifier(cv2.data.haarcascades+'haarcascade_frontalface_default.xml')\n",
    "eye_cascade=cv2.CascadeClassifier(cv2.data.haarcascades+'haarcascade_eye.xml')\n",
    "\n",
    "while True:\n",
    "    ret, frame =cap.read()    \n",
    "    gray=cv2.cvtColor(frame,cv2.COLOR_BGR2GRAY)\n",
    "    \n",
    "    #method return all the location of faces in terms of positons\n",
    "    #(scale factor(shrink in each iteration){small value->accuracy more},minNeighbours(how many req to be stated accurately),minSIZE,maxSIZE)\n",
    "    faces=face_cascade.detectMultiScale(gray,1.2,5)\n",
    "    for (x,y,w,h) in faces:\n",
    "        cv2.rectangle(frame,(x,y),(x+w,y+h),(255,0,0),5)\n",
    "        #now detect eye in the face sliced box\n",
    "        roi_gray=gray[y:y+h,x:x+h]\n",
    "        roi_color=frame[y:y+h,x:x+w]\n",
    "        eyes=eye_cascade.detectMultiScale(roi_gray,1.2,5)\n",
    "        for (ex,ey,ew,eh) in eyes:\n",
    "            cv2.rectangle(roi_color,(ex,ey),(ex+ew,ey+eh),(0,255,0),5)\n",
    "            \n",
    "    cv2.imshow('frame',frame)\n",
    "    \n",
    "    if cv2.waitKey(1) == ord('q'):    # waits for 1 milli sec and return the ascii code of the key pressed, if that integer value mathes with the ord('char') the we break\n",
    "        break\n",
    "\n",
    "cap.release()   # release camera resource\n",
    "cv2.destroyAllWindows()"
   ]
  },
  {
   "cell_type": "code",
   "execution_count": null,
   "id": "facc8826",
   "metadata": {},
   "outputs": [],
   "source": []
  }
 ],
 "metadata": {
  "kernelspec": {
   "display_name": "Python 3",
   "language": "python",
   "name": "python3"
  },
  "language_info": {
   "codemirror_mode": {
    "name": "ipython",
    "version": 3
   },
   "file_extension": ".py",
   "mimetype": "text/x-python",
   "name": "python",
   "nbconvert_exporter": "python",
   "pygments_lexer": "ipython3",
   "version": "3.8.8"
  }
 },
 "nbformat": 4,
 "nbformat_minor": 5
}
